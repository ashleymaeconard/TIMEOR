{
 "cells": [
  {
   "cell_type": "code",
   "execution_count": 12,
   "metadata": {},
   "outputs": [],
   "source": [
    "import pandas as pd\n",
    "import seaborn as sns\n",
    "sns.set()\n",
    "import matplotlib.pyplot as plt"
   ]
  },
  {
   "cell_type": "code",
   "execution_count": 7,
   "metadata": {},
   "outputs": [],
   "source": [
    "truth = pd.read_csv(\"/nbu/compbio/aconard/simulation/sim_all_results/timeor/results/analysis/sim-pt05_results/temporal_relations/TF_tel_rel_bkup.csv\")"
   ]
  },
  {
   "cell_type": "code",
   "execution_count": 14,
   "metadata": {},
   "outputs": [],
   "source": [
    "sim1 = truth.copy()"
   ]
  },
  {
   "cell_type": "code",
   "execution_count": 22,
   "metadata": {},
   "outputs": [
    {
     "name": "stderr",
     "output_type": "stream",
     "text": [
      "/home/aconard/anaconda/lib/python3.6/site-packages/ipykernel_launcher.py:1: SettingWithCopyWarning: \n",
      "A value is trying to be set on a copy of a slice from a DataFrame\n",
      "\n",
      "See the caveats in the documentation: http://pandas.pydata.org/pandas-docs/stable/indexing.html#indexing-view-versus-copy\n",
      "  \"\"\"Entry point for launching an IPython kernel.\n",
      "/home/aconard/anaconda/lib/python3.6/site-packages/ipykernel_launcher.py:2: SettingWithCopyWarning: \n",
      "A value is trying to be set on a copy of a slice from a DataFrame\n",
      "\n",
      "See the caveats in the documentation: http://pandas.pydata.org/pandas-docs/stable/indexing.html#indexing-view-versus-copy\n",
      "  \n"
     ]
    },
    {
     "data": {
      "text/html": [
       "<div>\n",
       "<style scoped>\n",
       "    .dataframe tbody tr th:only-of-type {\n",
       "        vertical-align: middle;\n",
       "    }\n",
       "\n",
       "    .dataframe tbody tr th {\n",
       "        vertical-align: top;\n",
       "    }\n",
       "\n",
       "    .dataframe thead th {\n",
       "        text-align: right;\n",
       "    }\n",
       "</style>\n",
       "<table border=\"1\" class=\"dataframe\">\n",
       "  <thead>\n",
       "    <tr style=\"text-align: right;\">\n",
       "      <th></th>\n",
       "      <th>cluster</th>\n",
       "      <th>regulator</th>\n",
       "      <th>regulated</th>\n",
       "      <th>regulation_type</th>\n",
       "      <th>edge_type</th>\n",
       "    </tr>\n",
       "  </thead>\n",
       "  <tbody>\n",
       "    <tr>\n",
       "      <th>0</th>\n",
       "      <td>1</td>\n",
       "      <td>RELA</td>\n",
       "      <td>AR</td>\n",
       "      <td>a</td>\n",
       "      <td>pred_per_known_int</td>\n",
       "    </tr>\n",
       "    <tr>\n",
       "      <th>1</th>\n",
       "      <td>1</td>\n",
       "      <td>BLAH</td>\n",
       "      <td>AR</td>\n",
       "      <td>a</td>\n",
       "      <td>per_per_known_int</td>\n",
       "    </tr>\n",
       "    <tr>\n",
       "      <th>2</th>\n",
       "      <td>2</td>\n",
       "      <td>AR</td>\n",
       "      <td>FOSL1</td>\n",
       "      <td>a</td>\n",
       "      <td>per_per_known_int</td>\n",
       "    </tr>\n",
       "    <tr>\n",
       "      <th>3</th>\n",
       "      <td>4</td>\n",
       "      <td>AR</td>\n",
       "      <td>CREB1</td>\n",
       "      <td>a</td>\n",
       "      <td>per_per_pred_int</td>\n",
       "    </tr>\n",
       "    <tr>\n",
       "      <th>4</th>\n",
       "      <td>2</td>\n",
       "      <td>RELA</td>\n",
       "      <td>FOSL1</td>\n",
       "      <td>a</td>\n",
       "      <td>pred_per_pred_int</td>\n",
       "    </tr>\n",
       "    <tr>\n",
       "      <th>5</th>\n",
       "      <td>4</td>\n",
       "      <td>RELA</td>\n",
       "      <td>CREB1</td>\n",
       "      <td>a</td>\n",
       "      <td>per_per_pred_int</td>\n",
       "    </tr>\n",
       "    <tr>\n",
       "      <th>6</th>\n",
       "      <td>2</td>\n",
       "      <td>SRF</td>\n",
       "      <td>FOSL1</td>\n",
       "      <td>a</td>\n",
       "      <td>pred_per_known_int</td>\n",
       "    </tr>\n",
       "    <tr>\n",
       "      <th>7</th>\n",
       "      <td>4</td>\n",
       "      <td>FOSL1</td>\n",
       "      <td>CREB1</td>\n",
       "      <td>a</td>\n",
       "      <td>per_per_known_int</td>\n",
       "    </tr>\n",
       "    <tr>\n",
       "      <th>8</th>\n",
       "      <td>2</td>\n",
       "      <td>CREB1</td>\n",
       "      <td>FOSL1</td>\n",
       "      <td>a</td>\n",
       "      <td>per_per_known_int</td>\n",
       "    </tr>\n",
       "    <tr>\n",
       "      <th>9</th>\n",
       "      <td>4</td>\n",
       "      <td>SRF</td>\n",
       "      <td>CREB1</td>\n",
       "      <td>a</td>\n",
       "      <td>pred_per_known_int</td>\n",
       "    </tr>\n",
       "  </tbody>\n",
       "</table>\n",
       "</div>"
      ],
      "text/plain": [
       "   cluster regulator regulated regulation_type           edge_type\n",
       "0        1      RELA        AR               a  pred_per_known_int\n",
       "1        1      BLAH        AR               a   per_per_known_int\n",
       "2        2        AR     FOSL1               a   per_per_known_int\n",
       "3        4        AR     CREB1               a    per_per_pred_int\n",
       "4        2      RELA     FOSL1               a   pred_per_pred_int\n",
       "5        4      RELA     CREB1               a    per_per_pred_int\n",
       "6        2       SRF     FOSL1               a  pred_per_known_int\n",
       "7        4     FOSL1     CREB1               a   per_per_known_int\n",
       "8        2     CREB1     FOSL1               a   per_per_known_int\n",
       "9        4       SRF     CREB1               a  pred_per_known_int"
      ]
     },
     "execution_count": 22,
     "metadata": {},
     "output_type": "execute_result"
    }
   ],
   "source": [
    "sim1[\"regulator\"][1] = \"BLAH\"\n",
    "sim1[\"edge_type\"][5] = \"per_per_pred_int\"\n",
    "sim1"
   ]
  },
  {
   "cell_type": "code",
   "execution_count": null,
   "metadata": {},
   "outputs": [],
   "source": [
    "df = pd.merge(df1, df2, on=['User','Movie'], how='left', indicator='Exist')\n",
    "df.drop('Rating', inplace=True, axis=1)\n",
    "df['Exist'] = np.where(df.Exist == 'both', True, False)\n",
    "print (df)"
   ]
  },
  {
   "cell_type": "code",
   "execution_count": 54,
   "metadata": {},
   "outputs": [],
   "source": [
    "# Get TPs\n",
    "df_m = pd.merge(truth, sim1,on=[\"cluster\", \"regulator\", \"regulated\", \"regulation_type\", \"edge_type\"], \n",
    "                how='left', indicator=\"Exist\")\n",
    "num_common_rows = (df_m['Exist'].value_counts().filter(items=['both']))[0]\n",
    "tp = num_common_rows*3\n",
    "fn = (len(df_m['Exist'])- num_common_rows)*3"
   ]
  },
  {
   "cell_type": "code",
   "execution_count": null,
   "metadata": {},
   "outputs": [],
   "source": [
    "# Get FN"
   ]
  },
  {
   "cell_type": "code",
   "execution_count": null,
   "metadata": {},
   "outputs": [],
   "source": [
    "# Get FP"
   ]
  },
  {
   "cell_type": "code",
   "execution_count": 52,
   "metadata": {},
   "outputs": [],
   "source": [
    "#calc_prec = (tp / (tp + fp))\n",
    "calc_rec = (tp / (tp + fn))"
   ]
  },
  {
   "cell_type": "code",
   "execution_count": 53,
   "metadata": {},
   "outputs": [
    {
     "data": {
      "text/plain": [
       "0.9230769230769231"
      ]
     },
     "execution_count": 53,
     "metadata": {},
     "output_type": "execute_result"
    }
   ],
   "source": [
    "calc_rec"
   ]
  },
  {
   "cell_type": "code",
   "execution_count": 8,
   "metadata": {},
   "outputs": [],
   "source": [
    "prec = [0.2, 0.36, 0.45, 0.49, 0.52]\n",
    "rec1 = [0.50, 0.72, 0.83, 0.88, 0.9]\n",
    "adjpval = [0.5, 0.4, 0.3, 0.2, 0.1]\n",
    "rec = rec1[::-1]"
   ]
  },
  {
   "cell_type": "code",
   "execution_count": 9,
   "metadata": {},
   "outputs": [
    {
     "name": "stdout",
     "output_type": "stream",
     "text": [
      "5 5 5\n"
     ]
    }
   ],
   "source": [
    "print(len(prec), len(rec), len(adjpval))"
   ]
  },
  {
   "cell_type": "code",
   "execution_count": 10,
   "metadata": {},
   "outputs": [],
   "source": [
    "df = pd.DataFrame(list(zip(prec, rec, adjpval)), \n",
    "               columns =['precision', 'recall', 'adj_pval']) "
   ]
  },
  {
   "cell_type": "code",
   "execution_count": 13,
   "metadata": {},
   "outputs": [
    {
     "data": {
      "image/png": "[encoded data removed]",
      "text/plain": [
       "<Figure size 720x720 with 1 Axes>"
      ]
     },
     "metadata": {},
     "output_type": "display_data"
    }
   ],
   "source": [
    "fig, ax = plt.subplots(figsize=(10,10))\n",
    "#sns.set_palette(reversed(sns.color_palette(\"Blues_d\", n_plots)), n_plots)\n",
    "ax = sns.lineplot(x=\"recall\", y=\"precision\", data=df)\n",
    "ax = sns.scatterplot(x=\"recall\", y=\"precision\", data=df, hue=\"adj_pval\", size=\"adj_pval\",palette=\"Reds_r\",legend=\"full\")\n",
    "plt.ylim(0, 1)\n",
    "\n",
    "plt.ylim(0,1 )\n",
    "plt.xlim(0, 1)\n",
    "\n",
    "def label_point(x, y, val, ax):\n",
    "    a = pd.concat({'x': x, 'y': y, 'val': val}, axis=1)\n",
    "    for i, point in a.iterrows():\n",
    "        ax.text(point['x']+0.01, point['y']-0.01, str(point['val']))\n",
    "\n",
    "label_point(df.recall, df.precision, df.adj_pval, plt.gca())\n",
    "\n",
    "# for line in range(0,df.shape[0]):\n",
    "#      ax.text(df.precision[line], df.recall[line], df.adj_pval[line], horizontalalignment='center', size='small', color='black', weight='semibold')"
   ]
  },
  {
   "cell_type": "code",
   "execution_count": null,
   "metadata": {},
   "outputs": [],
   "source": []
  }
 ],
 "metadata": {
  "kernelspec": {
   "display_name": "Python 3",
   "language": "python",
   "name": "python3"
  },
  "language_info": {
   "codemirror_mode": {
    "name": "ipython",
    "version": 3
   },
   "file_extension": ".py",
   "mimetype": "text/x-python",
   "name": "python",
   "nbconvert_exporter": "python",
   "pygments_lexer": "ipython3",
   "version": "3.6.5"
  }
 },
 "nbformat": 4,
 "nbformat_minor": 2
}
